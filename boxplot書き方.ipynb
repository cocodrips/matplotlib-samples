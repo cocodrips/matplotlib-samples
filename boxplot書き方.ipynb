{
 "cells": [
  {
   "cell_type": "code",
   "execution_count": 2,
   "metadata": {
    "collapsed": false
   },
   "outputs": [],
   "source": [
    "import pandas as pd\n",
    "import numpy as np\n",
    "import matplotlib.pyplot as plt\n",
    "%matplotlib inline\n",
    "plt.style.use('ggplot')"
   ]
  },
  {
   "cell_type": "code",
   "execution_count": 4,
   "metadata": {
    "collapsed": false
   },
   "outputs": [
    {
     "data": {
      "text/html": [
       "<div>\n",
       "<table border=\"1\" class=\"dataframe\">\n",
       "  <thead>\n",
       "    <tr style=\"text-align: right;\">\n",
       "      <th></th>\n",
       "      <th>0</th>\n",
       "      <th>1</th>\n",
       "      <th>2</th>\n",
       "      <th>3</th>\n",
       "    </tr>\n",
       "  </thead>\n",
       "  <tbody>\n",
       "    <tr>\n",
       "      <th>0</th>\n",
       "      <td>2.793508</td>\n",
       "      <td>3.684844</td>\n",
       "      <td>0.482869</td>\n",
       "      <td>2.059688</td>\n",
       "    </tr>\n",
       "    <tr>\n",
       "      <th>1</th>\n",
       "      <td>7.001995</td>\n",
       "      <td>12.613754</td>\n",
       "      <td>3.530228</td>\n",
       "      <td>136.288740</td>\n",
       "    </tr>\n",
       "    <tr>\n",
       "      <th>2</th>\n",
       "      <td>2.134502</td>\n",
       "      <td>1.660306</td>\n",
       "      <td>36.815315</td>\n",
       "      <td>7.663515</td>\n",
       "    </tr>\n",
       "    <tr>\n",
       "      <th>3</th>\n",
       "      <td>1.932341</td>\n",
       "      <td>60.804303</td>\n",
       "      <td>5.729217</td>\n",
       "      <td>0.375061</td>\n",
       "    </tr>\n",
       "    <tr>\n",
       "      <th>4</th>\n",
       "      <td>5.823089</td>\n",
       "      <td>4.677091</td>\n",
       "      <td>2.887173</td>\n",
       "      <td>2.464116</td>\n",
       "    </tr>\n",
       "  </tbody>\n",
       "</table>\n",
       "</div>"
      ],
      "text/plain": [
       "          0          1          2           3\n",
       "0  2.793508   3.684844   0.482869    2.059688\n",
       "1  7.001995  12.613754   3.530228  136.288740\n",
       "2  2.134502   1.660306  36.815315    7.663515\n",
       "3  1.932341  60.804303   5.729217    0.375061\n",
       "4  5.823089   4.677091   2.887173    2.464116"
      ]
     },
     "execution_count": 4,
     "metadata": {},
     "output_type": "execute_result"
    }
   ],
   "source": [
    "data = pd.DataFrame(np.random.lognormal(size=(37, 4), mean=1.5, sigma=1.75))\n",
    "data.head()"
   ]
  },
  {
   "cell_type": "code",
   "execution_count": 5,
   "metadata": {
    "collapsed": false
   },
   "outputs": [
    {
     "data": {
      "text/plain": [
       "{'boxes': [<matplotlib.lines.Line2D at 0x1154bc080>,\n",
       "  <matplotlib.lines.Line2D at 0x1154cac88>,\n",
       "  <matplotlib.lines.Line2D at 0x1154e2dd8>,\n",
       "  <matplotlib.lines.Line2D at 0x1154f9f28>],\n",
       " 'caps': [<matplotlib.lines.Line2D at 0x1154c3a58>,\n",
       "  <matplotlib.lines.Line2D at 0x1154c3c18>,\n",
       "  <matplotlib.lines.Line2D at 0x1154dbba8>,\n",
       "  <matplotlib.lines.Line2D at 0x1154dbd68>,\n",
       "  <matplotlib.lines.Line2D at 0x1154f2cf8>,\n",
       "  <matplotlib.lines.Line2D at 0x1154f2eb8>,\n",
       "  <matplotlib.lines.Line2D at 0x1154605c0>,\n",
       "  <matplotlib.lines.Line2D at 0x115501c88>],\n",
       " 'fliers': [],\n",
       " 'means': [],\n",
       " 'medians': [<matplotlib.lines.Line2D at 0x1154ca470>,\n",
       "  <matplotlib.lines.Line2D at 0x1154e25c0>,\n",
       "  <matplotlib.lines.Line2D at 0x1154f9710>,\n",
       "  <matplotlib.lines.Line2D at 0x115501e48>],\n",
       " 'whiskers': [<matplotlib.lines.Line2D at 0x1154bc9e8>,\n",
       "  <matplotlib.lines.Line2D at 0x1154bcbe0>,\n",
       "  <matplotlib.lines.Line2D at 0x1154d4b38>,\n",
       "  <matplotlib.lines.Line2D at 0x1154d4cf8>,\n",
       "  <matplotlib.lines.Line2D at 0x1154ebc88>,\n",
       "  <matplotlib.lines.Line2D at 0x1154ebe48>,\n",
       "  <matplotlib.lines.Line2D at 0x11547be48>,\n",
       "  <matplotlib.lines.Line2D at 0x11546dcc0>]}"
      ]
     },
     "execution_count": 5,
     "metadata": {},
     "output_type": "execute_result"
    },
    {
     "data": {
      "image/png": "[encoded data removed]",
      "text/plain": [
       "<matplotlib.figure.Figure at 0x1153aca20>"
      ]
     },
     "metadata": {},
     "output_type": "display_data"
    }
   ],
   "source": [
    "plt.boxplot(data.values, labels=list('ABCD'), showfliers=False)"
   ]
  },
  {
   "cell_type": "code",
   "execution_count": null,
   "metadata": {
    "collapsed": true
   },
   "outputs": [],
   "source": []
  }
 ],
 "metadata": {
  "kernelspec": {
   "display_name": "Python 3",
   "language": "python",
   "name": "python3"
  },
  "language_info": {
   "codemirror_mode": {
    "name": "ipython",
    "version": 3
   },
   "file_extension": ".py",
   "mimetype": "text/x-python",
   "name": "python",
   "nbconvert_exporter": "python",
   "pygments_lexer": "ipython3",
   "version": "3.6.0"
  }
 },
 "nbformat": 4,
 "nbformat_minor": 2
}
